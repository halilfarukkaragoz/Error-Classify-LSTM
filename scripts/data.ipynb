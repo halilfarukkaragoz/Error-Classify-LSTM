{
 "cells": [
  {
   "cell_type": "code",
   "execution_count": 1,
   "metadata": {},
   "outputs": [],
   "source": [
    "import pandas as pd \n",
    "import numpy as np \n"
   ]
  },
  {
   "cell_type": "code",
   "execution_count": 2,
   "metadata": {},
   "outputs": [],
   "source": [
    "err_df = pd.read_csv(\"err_content.csv\",delimiter= ';') # read csv file of errors \n",
    "err_df.drop_duplicates(inplace=True)"
   ]
  },
  {
   "cell_type": "code",
   "execution_count": 4,
   "metadata": {},
   "outputs": [],
   "source": [
    "# Return errors that contain keyword\n",
    "def return_contain(str_ar,df):\n",
    "    all_errors = []\n",
    "    for str in str_ar:\n",
    "        codes = df[df.CONTENT.str.contains(str)].CODE.unique() \n",
    "        for i in codes :\n",
    "            df_ = df[df.CODE == i]\n",
    "            for key,row in df_.iterrows():\n",
    "                all_errors.append(row)\n",
    "    return np.array(all_errors)"
   ]
  },
  {
   "cell_type": "code",
   "execution_count": 5,
   "metadata": {},
   "outputs": [],
   "source": [
    "en_errors = return_contain(['encoder','Encoder','position','Position'],err_df)\n",
    "en_errors_df = pd.DataFrame(en_errors)\n",
    "\n",
    "over_errors = return_contain(['over','Over'],err_df)\n",
    "over_errors_df = pd.DataFrame(over_errors)\n",
    "\n",
    "servo_errors = return_contain(['Servo','servo'],err_df)\n",
    "servo_errors_df = pd.DataFrame(servo_errors)\n"
   ]
  },
  {
   "cell_type": "code",
   "execution_count": 7,
   "metadata": {},
   "outputs": [],
   "source": [
    "'''\n",
    "Add Class column\n",
    "0 encoder errors \n",
    "1 over errors \n",
    "2 servo errors \n",
    "'''\n",
    "en_errors_df[\"CLASS\"] = pd.Series(np.zeros(100000))\n",
    "over_errors_df[\"CLASS\"] = pd.Series(np.ones(100000))\n",
    "servo_errors_df[\"CLASS\"] = pd.Series(np.ones(100000)*2)\n",
    "\n",
    "all_errors = pd.concat([en_errors_df,over_errors_df,servo_errors_df])\n"
   ]
  },
  {
   "cell_type": "code",
   "execution_count": 10,
   "metadata": {},
   "outputs": [
    {
     "data": {
      "text/html": [
       "<div>\n",
       "<style scoped>\n",
       "    .dataframe tbody tr th:only-of-type {\n",
       "        vertical-align: middle;\n",
       "    }\n",
       "\n",
       "    .dataframe tbody tr th {\n",
       "        vertical-align: top;\n",
       "    }\n",
       "\n",
       "    .dataframe thead th {\n",
       "        text-align: right;\n",
       "    }\n",
       "</style>\n",
       "<table border=\"1\" class=\"dataframe\">\n",
       "  <thead>\n",
       "    <tr style=\"text-align: right;\">\n",
       "      <th></th>\n",
       "      <th>0</th>\n",
       "      <th>1</th>\n",
       "      <th>2</th>\n",
       "      <th>3</th>\n",
       "      <th>CLASS</th>\n",
       "    </tr>\n",
       "  </thead>\n",
       "  <tbody>\n",
       "    <tr>\n",
       "      <th>287</th>\n",
       "      <td>46</td>\n",
       "      <td>22.10.2021</td>\n",
       "      <td>E0027</td>\n",
       "      <td>Encoder data change after stop [JT5Axis]</td>\n",
       "      <td>0.0</td>\n",
       "    </tr>\n",
       "    <tr>\n",
       "      <th>788</th>\n",
       "      <td>349</td>\n",
       "      <td>13.11.2021</td>\n",
       "      <td>E0903</td>\n",
       "      <td>Servo communication stop</td>\n",
       "      <td>2.0</td>\n",
       "    </tr>\n",
       "    <tr>\n",
       "      <th>818</th>\n",
       "      <td>189</td>\n",
       "      <td>17.06.2021</td>\n",
       "      <td>E1339</td>\n",
       "      <td>[MC1]P-N high voltage.(Servo board1)</td>\n",
       "      <td>2.0</td>\n",
       "    </tr>\n",
       "    <tr>\n",
       "      <th>97</th>\n",
       "      <td>328</td>\n",
       "      <td>4.08.2020</td>\n",
       "      <td>E3792</td>\n",
       "      <td>The encoder value changed in the power off. [J...</td>\n",
       "      <td>0.0</td>\n",
       "    </tr>\n",
       "    <tr>\n",
       "      <th>216</th>\n",
       "      <td>34</td>\n",
       "      <td>16.05.2022</td>\n",
       "      <td>E0898</td>\n",
       "      <td>Servo command stop [JT2Axis]</td>\n",
       "      <td>2.0</td>\n",
       "    </tr>\n",
       "    <tr>\n",
       "      <th>578</th>\n",
       "      <td>221</td>\n",
       "      <td>3.08.2021</td>\n",
       "      <td>E0065</td>\n",
       "      <td>Over travel limit switch activated</td>\n",
       "      <td>1.0</td>\n",
       "    </tr>\n",
       "    <tr>\n",
       "      <th>96</th>\n",
       "      <td>328</td>\n",
       "      <td>4.08.2020</td>\n",
       "      <td>E3792</td>\n",
       "      <td>The encoder value changed in the power off. [J...</td>\n",
       "      <td>0.0</td>\n",
       "    </tr>\n",
       "    <tr>\n",
       "      <th>593</th>\n",
       "      <td>41</td>\n",
       "      <td>14.09.2020</td>\n",
       "      <td>E0038</td>\n",
       "      <td>??? [JT4?]</td>\n",
       "      <td>1.0</td>\n",
       "    </tr>\n",
       "    <tr>\n",
       "      <th>963</th>\n",
       "      <td>277</td>\n",
       "      <td>6.02.2022</td>\n",
       "      <td>E0021</td>\n",
       "      <td>Abnormal servo tracking [JT1Axis]</td>\n",
       "      <td>2.0</td>\n",
       "    </tr>\n",
       "    <tr>\n",
       "      <th>615</th>\n",
       "      <td>312</td>\n",
       "      <td>4.11.2021</td>\n",
       "      <td>E0898</td>\n",
       "      <td>Servo command stop [JT2Axis]</td>\n",
       "      <td>2.0</td>\n",
       "    </tr>\n",
       "  </tbody>\n",
       "</table>\n",
       "</div>"
      ],
      "text/plain": [
       "       0           1      2  \\\n",
       "287   46  22.10.2021  E0027   \n",
       "788  349  13.11.2021  E0903   \n",
       "818  189  17.06.2021  E1339   \n",
       "97   328   4.08.2020  E3792   \n",
       "216   34  16.05.2022  E0898   \n",
       "578  221   3.08.2021  E0065   \n",
       "96   328   4.08.2020  E3792   \n",
       "593   41  14.09.2020  E0038   \n",
       "963  277   6.02.2022  E0021   \n",
       "615  312   4.11.2021  E0898   \n",
       "\n",
       "                                                     3  CLASS  \n",
       "287           Encoder data change after stop [JT5Axis]    0.0  \n",
       "788                           Servo communication stop    2.0  \n",
       "818               [MC1]P-N high voltage.(Servo board1)    2.0  \n",
       "97   The encoder value changed in the power off. [J...    0.0  \n",
       "216                       Servo command stop [JT2Axis]    2.0  \n",
       "578                 Over travel limit switch activated    1.0  \n",
       "96   The encoder value changed in the power off. [J...    0.0  \n",
       "593                                         ??? [JT4?]    1.0  \n",
       "963                  Abnormal servo tracking [JT1Axis]    2.0  \n",
       "615                       Servo command stop [JT2Axis]    2.0  "
      ]
     },
     "execution_count": 10,
     "metadata": {},
     "output_type": "execute_result"
    }
   ],
   "source": [
    "all_errors.sample(10,random_state=10)"
   ]
  },
  {
   "cell_type": "code",
   "execution_count": 58,
   "metadata": {},
   "outputs": [],
   "source": [
    "no_error_df = pd.read_csv(\"final-no-error.csv\",delimiter=';')\n",
    "no_error_df.set_index('ROBO_ID',inplace=True)\n",
    "no_error_df.drop(columns=['Unnamed: 0',\"Unnamed: 0.1\"],inplace=True)\n",
    "no_error_df.REG_DATE = pd.to_datetime(no_error_df.REG_DATE)"
   ]
  },
  {
   "cell_type": "code",
   "execution_count": 59,
   "metadata": {},
   "outputs": [],
   "source": [
    "\n",
    "from datetime import timedelta\n",
    "'''\n",
    "extract one day to make reg_date to occurrence data \n",
    "every data taken next day \n",
    "'''\n",
    "no_error_df.REG_DATE = pd.to_datetime(no_error_df.REG_DATE - timedelta(1))\n",
    "\n"
   ]
  },
  {
   "cell_type": "code",
   "execution_count": 65,
   "metadata": {},
   "outputs": [
    {
     "data": {
      "text/plain": [
       "0     2021-06-21\n",
       "1     2021-07-13\n",
       "2     2021-07-13\n",
       "3     2021-07-13\n",
       "4     2021-07-13\n",
       "         ...    \n",
       "991   2022-06-02\n",
       "992   2022-05-30\n",
       "993   2021-03-10\n",
       "994   2021-01-31\n",
       "995   2021-04-28\n",
       "Name: 1, Length: 2229, dtype: datetime64[ns]"
      ]
     },
     "execution_count": 65,
     "metadata": {},
     "output_type": "execute_result"
    }
   ],
   "source": [
    "pd.to_datetime(all_errors[1]) "
   ]
  },
  {
   "cell_type": "code",
   "execution_count": null,
   "metadata": {},
   "outputs": [],
   "source": [
    "iterate_over = no_error_df[pd.to_datetime(all_errors[1])  < no_error_df.REG_DATE.min()]\n",
    "all_errors_ar = all_errors.to_numpy()\n",
    "no_error__ar = no_error_df.to_numpy()"
   ]
  },
  {
   "cell_type": "code",
   "execution_count": null,
   "metadata": {},
   "outputs": [],
   "source": [
    "error_period = []\n",
    "for key,row in iterate_over.iterrows():\n",
    "    date = row.OCCURRENCE\n",
    "    period_4 = []\n",
    "    for key2,row2 in iterate_over.iterrows():\n",
    "        if(row2.REG_DATE >  date - timedelta(5) and row2.REG_DATE < date): \n",
    "            period_4.append(row2)\n",
    "            print(\"yey\")\n",
    "    if(len(period_4) != 0):\n",
    "        print(len(period_4))\n",
    "        error_period.append(np.array(period_4))\n"
   ]
  },
  {
   "cell_type": "code",
   "execution_count": 46,
   "metadata": {},
   "outputs": [],
   "source": []
  },
  {
   "cell_type": "code",
   "execution_count": null,
   "metadata": {},
   "outputs": [],
   "source": []
  }
 ],
 "metadata": {
  "kernelspec": {
   "display_name": "Python 3.9.7 ('base')",
   "language": "python",
   "name": "python3"
  },
  "language_info": {
   "codemirror_mode": {
    "name": "ipython",
    "version": 3
   },
   "file_extension": ".py",
   "mimetype": "text/x-python",
   "name": "python",
   "nbconvert_exporter": "python",
   "pygments_lexer": "ipython3",
   "version": "3.9.7"
  },
  "orig_nbformat": 4,
  "vscode": {
   "interpreter": {
    "hash": "a230f20cb6504a7a1ee944057eae445ccc0688ace88403c4729d19a4d9993305"
   }
  }
 },
 "nbformat": 4,
 "nbformat_minor": 2
}
